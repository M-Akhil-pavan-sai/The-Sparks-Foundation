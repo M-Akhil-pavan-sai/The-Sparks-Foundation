{
  "nbformat": 4,
  "nbformat_minor": 5,
  "metadata": {
    "kernelspec": {
      "display_name": "Python 3",
      "language": "python",
      "name": "python3"
    },
    "language_info": {
      "codemirror_mode": {
        "name": "ipython",
        "version": 3
      },
      "file_extension": ".py",
      "mimetype": "text/x-python",
      "name": "python",
      "nbconvert_exporter": "python",
      "pygments_lexer": "ipython3",
      "version": "3.8.8"
    },
    "colab": {
      "name": "task1.ipynb",
      "provenance": []
    }
  },
  "cells": [
    {
      "cell_type": "markdown",
      "metadata": {
        "id": "8c1a7755"
      },
      "source": [
        "# GRIP (THE SPARKS FOUNDATION)"
      ],
      "id": "8c1a7755"
    },
    {
      "cell_type": "markdown",
      "metadata": {
        "id": "49fcd8d6"
      },
      "source": [
        "# Data Science and Analytics"
      ],
      "id": "49fcd8d6"
    },
    {
      "cell_type": "markdown",
      "metadata": {
        "id": "a5302e17"
      },
      "source": [
        "# TASK - 1 (Prediction using supervised ml)"
      ],
      "id": "a5302e17"
    },
    {
      "cell_type": "code",
      "metadata": {
        "id": "352faf04"
      },
      "source": [
        "import numpy as np\n",
        "import pandas as pd\n",
        "import matplotlib.pyplot as plt\n",
        "import seaborn as sns\n"
      ],
      "id": "352faf04",
      "execution_count": 1,
      "outputs": []
    },
    {
      "cell_type": "code",
      "metadata": {
        "colab": {
          "base_uri": "https://localhost:8080/",
          "height": 359
        },
        "id": "f762aad6",
        "outputId": "94226fd6-eb99-4939-ce1a-ea52772e78e7"
      },
      "source": [
        "url = \"https://raw.githubusercontent.com/AdiPersonalWorks/Random/master/student_scores%20-%20student_scores.csv\"\n",
        "df = pd.read_csv(url)\n",
        "df.head(10)"
      ],
      "id": "f762aad6",
      "execution_count": 2,
      "outputs": [
        {
          "output_type": "execute_result",
          "data": {
            "text/html": [
              "<div>\n",
              "<style scoped>\n",
              "    .dataframe tbody tr th:only-of-type {\n",
              "        vertical-align: middle;\n",
              "    }\n",
              "\n",
              "    .dataframe tbody tr th {\n",
              "        vertical-align: top;\n",
              "    }\n",
              "\n",
              "    .dataframe thead th {\n",
              "        text-align: right;\n",
              "    }\n",
              "</style>\n",
              "<table border=\"1\" class=\"dataframe\">\n",
              "  <thead>\n",
              "    <tr style=\"text-align: right;\">\n",
              "      <th></th>\n",
              "      <th>Hours</th>\n",
              "      <th>Scores</th>\n",
              "    </tr>\n",
              "  </thead>\n",
              "  <tbody>\n",
              "    <tr>\n",
              "      <th>0</th>\n",
              "      <td>2.5</td>\n",
              "      <td>21</td>\n",
              "    </tr>\n",
              "    <tr>\n",
              "      <th>1</th>\n",
              "      <td>5.1</td>\n",
              "      <td>47</td>\n",
              "    </tr>\n",
              "    <tr>\n",
              "      <th>2</th>\n",
              "      <td>3.2</td>\n",
              "      <td>27</td>\n",
              "    </tr>\n",
              "    <tr>\n",
              "      <th>3</th>\n",
              "      <td>8.5</td>\n",
              "      <td>75</td>\n",
              "    </tr>\n",
              "    <tr>\n",
              "      <th>4</th>\n",
              "      <td>3.5</td>\n",
              "      <td>30</td>\n",
              "    </tr>\n",
              "    <tr>\n",
              "      <th>5</th>\n",
              "      <td>1.5</td>\n",
              "      <td>20</td>\n",
              "    </tr>\n",
              "    <tr>\n",
              "      <th>6</th>\n",
              "      <td>9.2</td>\n",
              "      <td>88</td>\n",
              "    </tr>\n",
              "    <tr>\n",
              "      <th>7</th>\n",
              "      <td>5.5</td>\n",
              "      <td>60</td>\n",
              "    </tr>\n",
              "    <tr>\n",
              "      <th>8</th>\n",
              "      <td>8.3</td>\n",
              "      <td>81</td>\n",
              "    </tr>\n",
              "    <tr>\n",
              "      <th>9</th>\n",
              "      <td>2.7</td>\n",
              "      <td>25</td>\n",
              "    </tr>\n",
              "  </tbody>\n",
              "</table>\n",
              "</div>"
            ],
            "text/plain": [
              "   Hours  Scores\n",
              "0    2.5      21\n",
              "1    5.1      47\n",
              "2    3.2      27\n",
              "3    8.5      75\n",
              "4    3.5      30\n",
              "5    1.5      20\n",
              "6    9.2      88\n",
              "7    5.5      60\n",
              "8    8.3      81\n",
              "9    2.7      25"
            ]
          },
          "metadata": {
            "tags": []
          },
          "execution_count": 2
        }
      ]
    },
    {
      "cell_type": "code",
      "metadata": {
        "id": "6954ed71",
        "outputId": "dbda4f17-3754-49f5-f480-b44e2548cc82"
      },
      "source": [
        "#analysis\n",
        "df.describe()"
      ],
      "id": "6954ed71",
      "execution_count": null,
      "outputs": [
        {
          "output_type": "execute_result",
          "data": {
            "text/html": [
              "<div>\n",
              "<style scoped>\n",
              "    .dataframe tbody tr th:only-of-type {\n",
              "        vertical-align: middle;\n",
              "    }\n",
              "\n",
              "    .dataframe tbody tr th {\n",
              "        vertical-align: top;\n",
              "    }\n",
              "\n",
              "    .dataframe thead th {\n",
              "        text-align: right;\n",
              "    }\n",
              "</style>\n",
              "<table border=\"1\" class=\"dataframe\">\n",
              "  <thead>\n",
              "    <tr style=\"text-align: right;\">\n",
              "      <th></th>\n",
              "      <th>Hours</th>\n",
              "      <th>Scores</th>\n",
              "    </tr>\n",
              "  </thead>\n",
              "  <tbody>\n",
              "    <tr>\n",
              "      <th>count</th>\n",
              "      <td>25.000000</td>\n",
              "      <td>25.000000</td>\n",
              "    </tr>\n",
              "    <tr>\n",
              "      <th>mean</th>\n",
              "      <td>5.012000</td>\n",
              "      <td>51.480000</td>\n",
              "    </tr>\n",
              "    <tr>\n",
              "      <th>std</th>\n",
              "      <td>2.525094</td>\n",
              "      <td>25.286887</td>\n",
              "    </tr>\n",
              "    <tr>\n",
              "      <th>min</th>\n",
              "      <td>1.100000</td>\n",
              "      <td>17.000000</td>\n",
              "    </tr>\n",
              "    <tr>\n",
              "      <th>25%</th>\n",
              "      <td>2.700000</td>\n",
              "      <td>30.000000</td>\n",
              "    </tr>\n",
              "    <tr>\n",
              "      <th>50%</th>\n",
              "      <td>4.800000</td>\n",
              "      <td>47.000000</td>\n",
              "    </tr>\n",
              "    <tr>\n",
              "      <th>75%</th>\n",
              "      <td>7.400000</td>\n",
              "      <td>75.000000</td>\n",
              "    </tr>\n",
              "    <tr>\n",
              "      <th>max</th>\n",
              "      <td>9.200000</td>\n",
              "      <td>95.000000</td>\n",
              "    </tr>\n",
              "  </tbody>\n",
              "</table>\n",
              "</div>"
            ],
            "text/plain": [
              "           Hours     Scores\n",
              "count  25.000000  25.000000\n",
              "mean    5.012000  51.480000\n",
              "std     2.525094  25.286887\n",
              "min     1.100000  17.000000\n",
              "25%     2.700000  30.000000\n",
              "50%     4.800000  47.000000\n",
              "75%     7.400000  75.000000\n",
              "max     9.200000  95.000000"
            ]
          },
          "metadata": {
            "tags": []
          },
          "execution_count": 3
        }
      ]
    },
    {
      "cell_type": "code",
      "metadata": {
        "id": "1e7f999d",
        "outputId": "4c7d9335-95ed-4eb9-f229-92c9504816d7"
      },
      "source": [
        "df.dtypes"
      ],
      "id": "1e7f999d",
      "execution_count": null,
      "outputs": [
        {
          "output_type": "execute_result",
          "data": {
            "text/plain": [
              "Hours     float64\n",
              "Scores      int64\n",
              "dtype: object"
            ]
          },
          "metadata": {
            "tags": []
          },
          "execution_count": 4
        }
      ]
    },
    {
      "cell_type": "markdown",
      "metadata": {
        "id": "83b0f716"
      },
      "source": [
        "# plotting the graph"
      ],
      "id": "83b0f716"
    },
    {
      "cell_type": "code",
      "metadata": {
        "colab": {
          "base_uri": "https://localhost:8080/",
          "height": 295
        },
        "id": "b54845f8",
        "outputId": "be0e6238-5d90-4d84-9947-7030efc44083"
      },
      "source": [
        "df.plot(x=\"Hours\",y=\"Scores\",style=\"o\")\n",
        "plt.title(\"hours vs Scores Table\")\n",
        "plt.xlabel(\"Hours\")\n",
        "plt.ylabel(\"Scores\")\n",
        "plt.show()"
      ],
      "id": "b54845f8",
      "execution_count": 5,
      "outputs": [
        {
          "output_type": "display_data",
          "data": {
            "image/png": "[encoded data removed]",
            "text/plain": [
              "<Figure size 432x288 with 1 Axes>"
            ]
          },
          "metadata": {
            "tags": [],
            "needs_background": "light"
          }
        }
      ]
    },
    {
      "cell_type": "code",
      "metadata": {
        "colab": {
          "base_uri": "https://localhost:8080/",
          "height": 595
        },
        "id": "54d2ca40",
        "outputId": "6d0fb6e2-cd35-41f5-cf3e-39eea100ca6d"
      },
      "source": [
        "fig,axs=plt.subplots(1,2,figsize=(15,10))\n",
        "sns.violinplot(y='Hours',data=df,ax=axs[0],color=\"#00FFFF\")\n",
        "sns.violinplot(y='Scores',data=df,ax=axs[1],color=\"#00FF00\")"
      ],
      "id": "54d2ca40",
      "execution_count": 6,
      "outputs": [
        {
          "output_type": "execute_result",
          "data": {
            "text/plain": [
              "<matplotlib.axes._subplots.AxesSubplot at 0x7ff1e2041690>"
            ]
          },
          "metadata": {
            "tags": []
          },
          "execution_count": 6
        },
        {
          "output_type": "display_data",
          "data": {
            "image/png": "[encoded data removed]",
            "text/plain": [
              "<Figure size 1080x720 with 2 Axes>"
            ]
          },
          "metadata": {
            "tags": [],
            "needs_background": "light"
          }
        }
      ]
    },
    {
      "cell_type": "markdown",
      "metadata": {
        "id": "4d3d3288"
      },
      "source": [
        "Both the attributes are distributed similarly"
      ],
      "id": "4d3d3288"
    },
    {
      "cell_type": "code",
      "metadata": {
        "id": "9662deac"
      },
      "source": [
        "X = df.iloc[:, :-1].values  \n",
        "Y = df.iloc[:, 1].values"
      ],
      "id": "9662deac",
      "execution_count": 8,
      "outputs": []
    },
    {
      "cell_type": "markdown",
      "metadata": {
        "id": "6965f3dc"
      },
      "source": [
        "# TRAIN AND TEST DEFINING"
      ],
      "id": "6965f3dc"
    },
    {
      "cell_type": "code",
      "metadata": {
        "id": "e61a841f"
      },
      "source": [
        "from sklearn.model_selection import train_test_split\n",
        "X_train,X_test,Y_train,Y_test = train_test_split(X,Y,test_size=2)\n"
      ],
      "id": "e61a841f",
      "execution_count": 9,
      "outputs": []
    },
    {
      "cell_type": "markdown",
      "metadata": {
        "id": "736326b4"
      },
      "source": [
        "# MODEL SELECTION AND TRAINING"
      ],
      "id": "736326b4"
    },
    {
      "cell_type": "code",
      "metadata": {
        "colab": {
          "base_uri": "https://localhost:8080/"
        },
        "id": "632c7faf",
        "outputId": "53205ed5-427e-482f-c16c-4bd3cd09137a"
      },
      "source": [
        "from sklearn.linear_model import LinearRegression\n",
        "doregression = LinearRegression()\n",
        "doregression.fit(X_train,Y_train)\n",
        "\n",
        "print(\"the training of the model has been sucessfully completed\")"
      ],
      "id": "632c7faf",
      "execution_count": 10,
      "outputs": [
        {
          "output_type": "stream",
          "text": [
            "the training of the model has been sucessfully completed\n"
          ],
          "name": "stdout"
        }
      ]
    },
    {
      "cell_type": "markdown",
      "metadata": {
        "id": "7738cc83"
      },
      "source": [
        "# plotting the scatter plot"
      ],
      "id": "7738cc83"
    },
    {
      "cell_type": "code",
      "metadata": {
        "colab": {
          "base_uri": "https://localhost:8080/",
          "height": 279
        },
        "id": "4a73c6d0",
        "outputId": "db9fe602-8852-4fee-8803-04d1cdeaee99"
      },
      "source": [
        "#plotting the scatter plot\n",
        "line = doregression.coef_*X+doregression.intercept_\n",
        "\n",
        "plt.scatter(X,Y,color =\"r\")\n",
        "plt.plot(X,line)\n",
        "plt.xlabel(\"no.of hours\")\n",
        "plt.ylabel(\"total no.of marks\")\n",
        "plt.show()"
      ],
      "id": "4a73c6d0",
      "execution_count": 11,
      "outputs": [
        {
          "output_type": "display_data",
          "data": {
            "image/png": "[encoded data removed]",
            "text/plain": [
              "<Figure size 432x288 with 1 Axes>"
            ]
          },
          "metadata": {
            "tags": [],
            "needs_background": "light"
          }
        }
      ]
    },
    {
      "cell_type": "markdown",
      "metadata": {
        "id": "5c46a27b"
      },
      "source": [
        "making predictions\n"
      ],
      "id": "5c46a27b"
    },
    {
      "cell_type": "code",
      "metadata": {
        "colab": {
          "base_uri": "https://localhost:8080/"
        },
        "id": "045fef9e",
        "outputId": "2c1f60c0-3df7-4ad3-9c4a-00157a9183f1"
      },
      "source": [
        "print(X_test)\n",
        "y_predict = doregression.predict(X_test)"
      ],
      "id": "045fef9e",
      "execution_count": 12,
      "outputs": [
        {
          "output_type": "stream",
          "text": [
            "[[2.5]\n",
            " [5.5]]\n"
          ],
          "name": "stdout"
        }
      ]
    },
    {
      "cell_type": "code",
      "metadata": {
        "id": "d06254d0"
      },
      "source": [
        "dt = pd.DataFrame({'Actual':Y_test,'Predicted':y_predict})"
      ],
      "id": "d06254d0",
      "execution_count": 13,
      "outputs": []
    },
    {
      "cell_type": "code",
      "metadata": {
        "colab": {
          "base_uri": "https://localhost:8080/",
          "height": 111
        },
        "id": "77d36317",
        "outputId": "4c083b6b-5c07-4f1e-d68f-81e0eec44456"
      },
      "source": [
        "dt"
      ],
      "id": "77d36317",
      "execution_count": 14,
      "outputs": [
        {
          "output_type": "execute_result",
          "data": {
            "text/html": [
              "<div>\n",
              "<style scoped>\n",
              "    .dataframe tbody tr th:only-of-type {\n",
              "        vertical-align: middle;\n",
              "    }\n",
              "\n",
              "    .dataframe tbody tr th {\n",
              "        vertical-align: top;\n",
              "    }\n",
              "\n",
              "    .dataframe thead th {\n",
              "        text-align: right;\n",
              "    }\n",
              "</style>\n",
              "<table border=\"1\" class=\"dataframe\">\n",
              "  <thead>\n",
              "    <tr style=\"text-align: right;\">\n",
              "      <th></th>\n",
              "      <th>Actual</th>\n",
              "      <th>Predicted</th>\n",
              "    </tr>\n",
              "  </thead>\n",
              "  <tbody>\n",
              "    <tr>\n",
              "      <th>0</th>\n",
              "      <td>21</td>\n",
              "      <td>27.318036</td>\n",
              "    </tr>\n",
              "    <tr>\n",
              "      <th>1</th>\n",
              "      <td>60</td>\n",
              "      <td>56.298897</td>\n",
              "    </tr>\n",
              "  </tbody>\n",
              "</table>\n",
              "</div>"
            ],
            "text/plain": [
              "   Actual  Predicted\n",
              "0      21  27.318036\n",
              "1      60  56.298897"
            ]
          },
          "metadata": {
            "tags": []
          },
          "execution_count": 14
        }
      ]
    },
    {
      "cell_type": "markdown",
      "metadata": {
        "id": "82746ee4"
      },
      "source": [
        "# now let's check logistic regression"
      ],
      "id": "82746ee4"
    },
    {
      "cell_type": "code",
      "metadata": {
        "colab": {
          "base_uri": "https://localhost:8080/"
        },
        "id": "0b3317bb",
        "outputId": "3175aaa6-6738-4f90-90b4-ce2dbcdc8dc9"
      },
      "source": [
        "from sklearn.linear_model import LogisticRegression\n",
        "regression = LogisticRegression(max_iter=500)\n",
        "regression.fit(X_train,Y_train)\n",
        "print(\"executed sucessfully\")\n",
        "\n"
      ],
      "id": "0b3317bb",
      "execution_count": 15,
      "outputs": [
        {
          "output_type": "stream",
          "text": [
            "executed sucessfully\n"
          ],
          "name": "stdout"
        }
      ]
    },
    {
      "cell_type": "code",
      "metadata": {
        "id": "726b48b6"
      },
      "source": [
        "y_predict1 = regression.predict(X_test)\n"
      ],
      "id": "726b48b6",
      "execution_count": 16,
      "outputs": []
    },
    {
      "cell_type": "code",
      "metadata": {
        "colab": {
          "base_uri": "https://localhost:8080/",
          "height": 111
        },
        "id": "23c4583c",
        "outputId": "524ef8da-1127-4b51-b14d-fb38d9571440"
      },
      "source": [
        "dp = pd.DataFrame({\"Actual\":Y_test,\"predicted\":y_predict1})\n",
        "dp"
      ],
      "id": "23c4583c",
      "execution_count": 17,
      "outputs": [
        {
          "output_type": "execute_result",
          "data": {
            "text/html": [
              "<div>\n",
              "<style scoped>\n",
              "    .dataframe tbody tr th:only-of-type {\n",
              "        vertical-align: middle;\n",
              "    }\n",
              "\n",
              "    .dataframe tbody tr th {\n",
              "        vertical-align: top;\n",
              "    }\n",
              "\n",
              "    .dataframe thead th {\n",
              "        text-align: right;\n",
              "    }\n",
              "</style>\n",
              "<table border=\"1\" class=\"dataframe\">\n",
              "  <thead>\n",
              "    <tr style=\"text-align: right;\">\n",
              "      <th></th>\n",
              "      <th>Actual</th>\n",
              "      <th>predicted</th>\n",
              "    </tr>\n",
              "  </thead>\n",
              "  <tbody>\n",
              "    <tr>\n",
              "      <th>0</th>\n",
              "      <td>21</td>\n",
              "      <td>30</td>\n",
              "    </tr>\n",
              "    <tr>\n",
              "      <th>1</th>\n",
              "      <td>60</td>\n",
              "      <td>30</td>\n",
              "    </tr>\n",
              "  </tbody>\n",
              "</table>\n",
              "</div>"
            ],
            "text/plain": [
              "   Actual  predicted\n",
              "0      21         30\n",
              "1      60         30"
            ]
          },
          "metadata": {
            "tags": []
          },
          "execution_count": 17
        }
      ]
    },
    {
      "cell_type": "markdown",
      "metadata": {
        "id": "32c5fb84"
      },
      "source": [
        "# evaluating the linear regression "
      ],
      "id": "32c5fb84"
    },
    {
      "cell_type": "code",
      "metadata": {
        "colab": {
          "base_uri": "https://localhost:8080/"
        },
        "id": "d336668d",
        "outputId": "472e27c5-012d-4705-f11c-66f2960d7933"
      },
      "source": [
        "from sklearn import metrics  \n",
        "print('Mean Absolute Error:', \n",
        "      metrics.mean_absolute_error(Y_test, y_predict))"
      ],
      "id": "d336668d",
      "execution_count": 18,
      "outputs": [
        {
          "output_type": "stream",
          "text": [
            "Mean Absolute Error: 5.009569377990431\n"
          ],
          "name": "stdout"
        }
      ]
    },
    {
      "cell_type": "markdown",
      "metadata": {
        "id": "d2636f9f"
      },
      "source": [
        "# evaluating the logistic regression"
      ],
      "id": "d2636f9f"
    },
    {
      "cell_type": "code",
      "metadata": {
        "colab": {
          "base_uri": "https://localhost:8080/"
        },
        "id": "9e72c998",
        "outputId": "74093173-6233-44bf-d62f-f0c9e7279cdb"
      },
      "source": [
        "from sklearn import metrics\n",
        "print(\"Mean Absolute Error:\",metrics.mean_absolute_error(Y_test,y_predict1))"
      ],
      "id": "9e72c998",
      "execution_count": 19,
      "outputs": [
        {
          "output_type": "stream",
          "text": [
            "Mean Absolute Error: 19.5\n"
          ],
          "name": "stdout"
        }
      ]
    },
    {
      "cell_type": "markdown",
      "metadata": {
        "id": "b54d20be"
      },
      "source": [
        "# Conclusion:"
      ],
      "id": "b54d20be"
    },
    {
      "cell_type": "markdown",
      "metadata": {
        "id": "12dc42bc"
      },
      "source": [
        " Based on the above two model metrics linear regression performs well in this case"
      ],
      "id": "12dc42bc"
    },
    {
      "cell_type": "markdown",
      "metadata": {
        "id": "f5Th2qI-7B6Y"
      },
      "source": [
        "What will be the predicted score of a student when he or she studies for 9.2 hour/day ?\n"
      ],
      "id": "f5Th2qI-7B6Y"
    },
    {
      "cell_type": "code",
      "metadata": {
        "id": "i1AEqNZh7MM1"
      },
      "source": [
        "hours = [9.25]\n",
        "result = doregression.predict([hours])"
      ],
      "id": "i1AEqNZh7MM1",
      "execution_count": 20,
      "outputs": []
    },
    {
      "cell_type": "code",
      "metadata": {
        "colab": {
          "base_uri": "https://localhost:8080/"
        },
        "id": "HhzCohnq7dFk",
        "outputId": "c2da1dbf-69a6-498b-fd01-676d71dc2e94"
      },
      "source": [
        "print(\"score = {}\".format(result))"
      ],
      "id": "HhzCohnq7dFk",
      "execution_count": 21,
      "outputs": [
        {
          "output_type": "stream",
          "text": [
            "score = [92.524974]\n"
          ],
          "name": "stdout"
        }
      ]
    },
    {
      "cell_type": "markdown",
      "metadata": {
        "id": "5tBZHaBi7x77"
      },
      "source": [
        "According to the regression model the answer is 92.52"
      ],
      "id": "5tBZHaBi7x77"
    }
  ]
}